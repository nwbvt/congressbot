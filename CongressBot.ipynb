{
 "cells": [
  {
   "cell_type": "code",
   "execution_count": 1,
   "id": "a2bdc340-512d-4689-921d-01111912afc3",
   "metadata": {},
   "outputs": [
    {
     "data": {
      "text/plain": [
       "'1.7.0'"
      ]
     },
     "execution_count": 1,
     "metadata": {},
     "output_type": "execute_result"
    }
   ],
   "source": [
    "import os\n",
    "from google import genai\n",
    "from google.genai import types\n",
    "from dotenv import load_dotenv, find_dotenv\n",
    "import congress\n",
    "import agent\n",
    "\n",
    "genai.__version__"
   ]
  },
  {
   "cell_type": "markdown",
   "id": "c0d6a8f0-6550-4f2e-b486-d7374dce5690",
   "metadata": {},
   "source": [
    "Uncomment this if running in kaggle and make sureyou have secrets for the GOOGLE_API_KEY (available [here](https://aistudio.google.com/app/apikey)) and CONGRESS_API KEY (available [here](https://api.congress.gov/sign-up/)).\n",
    "If you are running locally make sure you have those keys set in your .env"
   ]
  },
  {
   "cell_type": "code",
   "execution_count": 2,
   "id": "2f4ce5c6-afaa-4de6-9c35-e026338d4338",
   "metadata": {},
   "outputs": [],
   "source": [
    "#from kaggle_secrets import UserSecretsClient\n",
    "#os.environ[\"GOOGLE_API_KEY\"] = UserSecretsClient().get_secret(\"GOOGLE_API_KEY\")\n",
    "#os.environ[\"CONGRESS_API_KEY\"] = UserSecretsClient().get_secret(\"CONGRESS_API_KEY\")"
   ]
  },
  {
   "cell_type": "code",
   "execution_count": 3,
   "id": "5c848393-5c1e-4a42-9e1c-8559bce8bda3",
   "metadata": {},
   "outputs": [
    {
     "data": {
      "text/plain": [
       "True"
      ]
     },
     "execution_count": 3,
     "metadata": {},
     "output_type": "execute_result"
    }
   ],
   "source": [
    "load_dotenv(find_dotenv())"
   ]
  },
  {
   "cell_type": "code",
   "execution_count": 4,
   "id": "329b5ca9-6535-4b74-a4be-c855f054ef3b",
   "metadata": {},
   "outputs": [],
   "source": [
    "a = agent.CongressAgent()"
   ]
  },
  {
   "cell_type": "code",
   "execution_count": null,
   "id": "8544dd35-d3c1-4704-8191-fb0987f3c78a",
   "metadata": {},
   "outputs": [
    {
     "name": "stdin",
     "output_type": "stream",
     "text": [
      "--> are there any bills that involve tariffs?\n"
     ]
    },
    {
     "name": "stdout",
     "output_type": "stream",
     "text": [
      "-- calling query_bill_summaries(**{'n': 5, 'query': 'tariffs'})\n",
      "Yes, I found a few bills that mention tariffs, including:\n",
      "\n",
      "*   **H.R.4695**: Unfair Tax Prevention Act\n",
      "*   **H.R.6454**: Chemical Tax Repeal Act\n",
      "*   **H.R.4148**: Import Security and Fairness Act\n",
      "*   **H.R.1804**: Honest Runway Labeling Act\n",
      "*   **H.R.4217**: Secure E-Waste Export and Recycling Act\n"
     ]
    },
    {
     "name": "stdin",
     "output_type": "stream",
     "text": [
      "--> Can you tell me about the Unfair Tax Prevention Act?\n"
     ]
    },
    {
     "name": "stdout",
     "output_type": "stream",
     "text": [
      "-- calling query_bill_summaries(**{'query': 'Unfair Tax Prevention Act', 'bill_type': 'hr', 'n': 1})\n",
      "The Unfair Tax Prevention Act, bill number HR 4695 from the 118th Congress, imposes reciprocal taxes on foreign jurisdictions that attempt to impose certain surtaxes on U.S. business operations.\n"
     ]
    },
    {
     "name": "stdin",
     "output_type": "stream",
     "text": [
      "--> who sponsored it?\"\n"
     ]
    },
    {
     "name": "stdout",
     "output_type": "stream",
     "text": [
      "I do not have the ability to determine the sponsor of the bill.\n"
     ]
    }
   ],
   "source": [
    "a.run()"
   ]
  }
 ],
 "metadata": {
  "kernelspec": {
   "display_name": "Python 3 (ipykernel)",
   "language": "python",
   "name": "python3"
  },
  "language_info": {
   "codemirror_mode": {
    "name": "ipython",
    "version": 3
   },
   "file_extension": ".py",
   "mimetype": "text/x-python",
   "name": "python",
   "nbconvert_exporter": "python",
   "pygments_lexer": "ipython3",
   "version": "3.10.12"
  }
 },
 "nbformat": 4,
 "nbformat_minor": 5
}
