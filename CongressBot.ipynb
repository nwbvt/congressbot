{
 "cells": [
  {
   "cell_type": "code",
   "execution_count": 1,
   "id": "a2bdc340-512d-4689-921d-01111912afc3",
   "metadata": {},
   "outputs": [
    {
     "data": {
      "text/plain": [
       "'1.7.0'"
      ]
     },
     "execution_count": 1,
     "metadata": {},
     "output_type": "execute_result"
    }
   ],
   "source": [
    "import os\n",
    "from google import genai\n",
    "from google.genai import types\n",
    "from dotenv import load_dotenv, find_dotenv\n",
    "import congress\n",
    "import agent\n",
    "\n",
    "genai.__version__"
   ]
  },
  {
   "cell_type": "markdown",
   "id": "c0d6a8f0-6550-4f2e-b486-d7374dce5690",
   "metadata": {},
   "source": [
    "Uncomment this if running in kaggle and make sureyou have secrets for the GOOGLE_API_KEY (available [here](https://aistudio.google.com/app/apikey)) and CONGRESS_API KEY (available [here](https://api.congress.gov/sign-up/)).\n",
    "If you are running locally make sure you have those keys set in your .env"
   ]
  },
  {
   "cell_type": "code",
   "execution_count": 2,
   "id": "2f4ce5c6-afaa-4de6-9c35-e026338d4338",
   "metadata": {},
   "outputs": [],
   "source": [
    "#from kaggle_secrets import UserSecretsClient\n",
    "#os.environ[\"GOOGLE_API_KEY\"] = UserSecretsClient().get_secret(\"GOOGLE_API_KEY\")\n",
    "#os.environ[\"CONGRESS_API_KEY\"] = UserSecretsClient().get_secret(\"CONGRESS_API_KEY\")"
   ]
  },
  {
   "cell_type": "code",
   "execution_count": 3,
   "id": "5c848393-5c1e-4a42-9e1c-8559bce8bda3",
   "metadata": {},
   "outputs": [
    {
     "data": {
      "text/plain": [
       "True"
      ]
     },
     "execution_count": 3,
     "metadata": {},
     "output_type": "execute_result"
    }
   ],
   "source": [
    "load_dotenv(find_dotenv())"
   ]
  },
  {
   "cell_type": "code",
   "execution_count": 4,
   "id": "329b5ca9-6535-4b74-a4be-c855f054ef3b",
   "metadata": {},
   "outputs": [],
   "source": [
    "a = agent.CongressAgent()"
   ]
  },
  {
   "cell_type": "code",
   "execution_count": null,
   "id": "8544dd35-d3c1-4704-8191-fb0987f3c78a",
   "metadata": {},
   "outputs": [
    {
     "name": "stdin",
     "output_type": "stream",
     "text": [
      "--> who represents NC in congress?\n"
     ]
    },
    {
     "name": "stdout",
     "output_type": "stream",
     "text": [
      "-- calling get_members(**{'state': 'NC'})\n",
      "Here are the members of congress who represent North Carolina:  Ted Budd, Thomas Tillis, Addison McDowell, Tim Moore, Brad Knott, Mark Harris, Pat Harrigan, Valerie P. Foushee, Chuck Edwards, David Rouzer, Alma S. Adams, Richard Hudson, Virginia Foxx, Donald G. Davis, Deborah K. Ross, and Gregory F. Murphy.\n"
     ]
    },
    {
     "name": "stdin",
     "output_type": "stream",
     "text": [
      "--> Tell me about Deborah Ross\n"
     ]
    },
    {
     "name": "stdout",
     "output_type": "stream",
     "text": [
      "-- calling call_endpoint(**{'endpoint': 'https://api.congress.gov/v3/member/R000305?format=json'})\n",
      "Deborah K. Ross is a Representative for the 2nd district of North Carolina. She is a Democrat and her current term started in 2021.\n"
     ]
    },
    {
     "name": "stdin",
     "output_type": "stream",
     "text": [
      "--> what bills has she sponsored?\n"
     ]
    },
    {
     "name": "stdout",
     "output_type": "stream",
     "text": [
      "-- calling call_endpoint(**{'endpoint': 'https://api.congress.gov/v3/member/R000305/sponsored-legislation'})\n",
      "Deborah Ross has sponsored 59 bills. The first 20 are:\n",
      "To amend the Outer Continental Shelf Lands Act to withdraw the outer Continental Shelf in the Mid-Atlantic Planning Area from disposition, and for other purposes. (HR2886)\n",
      "Insurance Fraud Accountability Act (HR2079)\n",
      "Safer Sports for Athletes Act of 2024 (HR10326)\n",
      "Expressing support for designating the week of November 4 through November 10, 2024, as \"Forensic Nursing Week\". (HRES1575)\n",
      "Insurance Fraud Accountability Act (HR10095)\n",
      "Expressing support for the designation of October 1 as \"National Science Day\". (HRES1529)\n",
      "Medical Laboratory Personnel Shortage Relief Act of 2024 (HR9849)\n",
      "AI Incident Reporting and Security Enhancement Act (HR9720)\n",
      "Secure A.I. Act of 2024 (HR9737)\n",
      "To designate the facility of the United States Postal Service located at 2777 Brentwood Road in Raleigh, North Carolina, as the \"Millie Dunn Veasey Post Office\". (HR9580)\n",
      "Federal and State Food Safety Information Sharing Act of 2024 (HR9443)\n",
      "Advancing International and Foreign Language Education Act (HR9170)\n",
      "Closing Bankruptcy Loopholes for Child Predators Act of 2024 (HR8077)\n",
      "To make revisions in title 51, United States Code, as necessary to keep the title current, and to make technical amendments to improve the United States Code. (HR7339)\n",
      "Petfax Act of 2024 (HR7211)\n",
      "Redistricting Transparency and Accountability Act of 2024 (HR7095)\n",
      "Understanding Student Parent Outcomes Act of 2023 (HR6309)\n",
      "Protect Working Musicians Act of 2023 (HR5576)\n",
      "Protection and Advocacy for Criminal Legal Services Act (HR5258)\n",
      "United States-Moldova Defense Partnership Act (HR5174)\n",
      "\n"
     ]
    },
    {
     "name": "stdin",
     "output_type": "stream",
     "text": [
      "--> tell me about HR9720\n"
     ]
    },
    {
     "name": "stdout",
     "output_type": "stream",
     "text": [
      "-- calling call_endpoint(**{'endpoint': 'https://api.congress.gov/v3/bill/118/hr/9720?format=json'})\n",
      "HR 9720, the AI Incident Reporting and Security Enhancement Act, was introduced on 2024-09-20. The latest action was \"Ordered to be Reported by Voice Vote.\" The bill's policy area is Science, Technology, Communications.\n"
     ]
    },
    {
     "name": "stdin",
     "output_type": "stream",
     "text": [
      "--> can you give me a summary of it?\n"
     ]
    },
    {
     "name": "stdout",
     "output_type": "stream",
     "text": [
      "HR 9720, the AI Incident Reporting and Security Enhancement Act, directs the National Institute of Standards and Technology (NIST) to initiate a process to update processes and procedures for the voluntary tracking and processing of security and safety incidents associated with artificial intelligence.\n",
      "\n"
     ]
    },
    {
     "name": "stdin",
     "output_type": "stream",
     "text": [
      "--> what is its status?\n"
     ]
    },
    {
     "name": "stdout",
     "output_type": "stream",
     "text": [
      "The AI Incident Reporting and Security Enhancement Act directs NIST to initiate a process to update processes and procedures for the voluntary tracking and processing of security and safety incidents associated with artificial intelligence. It was ordered to be Reported by Voice Vote on September 25, 2024.\n"
     ]
    },
    {
     "name": "stdin",
     "output_type": "stream",
     "text": [
      "--> tell me about HR9737\n"
     ]
    },
    {
     "name": "stdout",
     "output_type": "stream",
     "text": [
      "-- calling call_endpoint(**{'endpoint': 'https://api.congress.gov/v3/bill/118/hr/9737?format=json'})\n",
      "HR 9720, the \"AI Incident Reporting and Security Enhancement Act,\" directs the National Institute of Standards and Technology (NIST) to update processes for tracking security and safety incidents associated with artificial intelligence. It was ordered to be Reported by Voice Vote.\n",
      "\n",
      "HR 9737, the \"Secure A.I. Act of 2024,\" improves the tracking and processing of security and safety incidents and risks associated with artificial intelligence. It was referred to the Subcommittee on Cybersecurity and Infrastructure Protection.\n",
      "\n"
     ]
    },
    {
     "name": "stdin",
     "output_type": "stream",
     "text": [
      "--> can you summarize it?\n"
     ]
    },
    {
     "name": "stdout",
     "output_type": "stream",
     "text": [
      "HR 9720, the AI Incident Reporting and Security Enhancement Act, was ordered to be Reported by Voice Vote. HR 9737, Secure A.I. Act of 2024, was referred to the Subcommittee on Cybersecurity and Infrastructure Protection.\n",
      "\n"
     ]
    },
    {
     "name": "stdin",
     "output_type": "stream",
     "text": [
      "--> are there any summaries of it?\n"
     ]
    },
    {
     "name": "stdout",
     "output_type": "stream",
     "text": [
      "-- calling call_endpoint(**{'endpoint': 'https://api.congress.gov/v3/bill/118/hr/9737/summaries?format=json'})\n",
      "Here's a summary of H.R. 9737, the Secure A.I. Act of 2024:\n",
      "\n",
      "**Purpose:** The bill aims to manage security and safety risks associated with the use of artificial intelligence (AI).\n",
      "\n",
      "**Key Provisions:**\n",
      "\n",
      "*   **AI Incident Database:** Directs the National Institute of Standards and Technology (NIST) and the Cybersecurity and Infrastructure Agency (CISA) to develop a database for tracking AI-related safety and security incidents. This database will allow confidential sharing of information about incidents that pose risks to people, property, or AI systems. Priority is given to incidents involving critical infrastructure, widely used AI, or those with significant potential impact.\n",
      "*   **Whistleblower Protection:** Protects employees from retaliation for reporting AI incidents or participating in investigations.\n",
      "*   **AI Security Center:** Establishes an AI Security Center within the National Security Agency to promote AI security research and develop guidance on preventing and mitigating \"counter-AI\" (unauthorized efforts to extract information or manipulate AI systems).\n",
      "*   **Vulnerability Integration:** Directs NIST and CISA to incorporate AI vulnerabilities into federal databases.\n",
      "*   **Multi-Stakeholder Groups:** Requires NIST to evaluate voluntary reporting standards for AI security vulnerabilities and CISA to consider best practices for addressing AI-related risks in the AI supply chain.\n",
      "\n",
      "**Status:** Referred to the Subcommittee on Cybersecurity and Infrastructure Protection.\n",
      "\n"
     ]
    },
    {
     "name": "stdin",
     "output_type": "stream",
     "text": [
      "--> tell me about HR5576\n"
     ]
    },
    {
     "name": "stdout",
     "output_type": "stream",
     "text": [
      "-- calling call_endpoint(**{'endpoint': 'https://api.congress.gov/v3/bill/118/hr/5576?format=json'})\n",
      "HR 5576, also known as the Protect Working Musicians Act of 2023, was introduced on September 19, 2023, and was referred to the House Committee on the Judiciary. The purpose of the bill is to empower independent music creator owners to collectively negotiate with dominant online platforms and generative artificial intelligence developers regarding the terms on which their music may be distributed.\n",
      "\n"
     ]
    },
    {
     "name": "stdin",
     "output_type": "stream",
     "text": [
      "--> are there any summaries about it?\n"
     ]
    },
    {
     "name": "stdout",
     "output_type": "stream",
     "text": [
      "-- calling call_endpoint(**{'endpoint': 'https://api.congress.gov/v3/bill/118/hr/5576/summaries?format=json'})\n",
      "There are no summaries for HR5576.\n",
      "\n"
     ]
    },
    {
     "name": "stdin",
     "output_type": "stream",
     "text": [
      "--> what is its status?\n"
     ]
    },
    {
     "name": "stdout",
     "output_type": "stream",
     "text": [
      "The bill, H.R. 5576, was introduced on 2023-09-19 and referred to the House Committee on the Judiciary. As of the latest action on 2023-09-19, it remains in committee. There are no summaries available.\n"
     ]
    }
   ],
   "source": [
    "a.run()"
   ]
  }
 ],
 "metadata": {
  "kernelspec": {
   "display_name": "Python 3 (ipykernel)",
   "language": "python",
   "name": "python3"
  },
  "language_info": {
   "codemirror_mode": {
    "name": "ipython",
    "version": 3
   },
   "file_extension": ".py",
   "mimetype": "text/x-python",
   "name": "python",
   "nbconvert_exporter": "python",
   "pygments_lexer": "ipython3",
   "version": "3.10.12"
  }
 },
 "nbformat": 4,
 "nbformat_minor": 5
}
