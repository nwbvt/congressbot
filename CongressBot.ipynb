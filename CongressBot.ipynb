{
 "cells": [
  {
   "cell_type": "markdown",
   "id": "c7218355-358a-454a-8a01-02eb9d75daed",
   "metadata": {},
   "source": [
    "# Congress Bot"
   ]
  },
  {
   "cell_type": "markdown",
   "id": "cc14f464-2c2a-4c9b-8c56-ac20101f56eb",
   "metadata": {},
   "source": [
    "## Problem Statement\n",
    "This will be a genai agent designed to interact with the publically available congressional API to inquire what is going on in Congress. \n",
    "It will be able to use information from that API to get information about members of Congress and legislation in front of Congress. While the data is available in a format that can be parsed by computers, the text of the bills themselves are in natural language and thus really need an LLM to understand them."
   ]
  },
  {
   "cell_type": "code",
   "execution_count": 1,
   "id": "a2bdc340-512d-4689-921d-01111912afc3",
   "metadata": {},
   "outputs": [
    {
     "data": {
      "text/plain": [
       "'1.7.0'"
      ]
     },
     "execution_count": 1,
     "metadata": {},
     "output_type": "execute_result"
    }
   ],
   "source": [
    "import os\n",
    "from google import genai\n",
    "from google.genai import types\n",
    "from dotenv import load_dotenv, find_dotenv\n",
    "import congress\n",
    "import agent\n",
    "import db\n",
    "import datetime\n",
    "\n",
    "genai.__version__"
   ]
  },
  {
   "cell_type": "markdown",
   "id": "216ab985-6549-4f9f-b930-63ac9c0b102a",
   "metadata": {},
   "source": [
    "## Setup"
   ]
  },
  {
   "cell_type": "markdown",
   "id": "c0d6a8f0-6550-4f2e-b486-d7374dce5690",
   "metadata": {},
   "source": [
    "Uncomment this if running in kaggle and make sureyou have secrets for the GOOGLE_API_KEY (available [here](https://aistudio.google.com/app/apikey)) and CONGRESS_API KEY (available [here](https://api.congress.gov/sign-up/)).\n"
   ]
  },
  {
   "cell_type": "code",
   "execution_count": 2,
   "id": "2f4ce5c6-afaa-4de6-9c35-e026338d4338",
   "metadata": {},
   "outputs": [],
   "source": [
    "#from kaggle_secrets import UserSecretsClient\n",
    "#os.environ[\"GOOGLE_API_KEY\"] = UserSecretsClient().get_secret(\"GOOGLE_API_KEY\")\n",
    "#os.environ[\"CONGRESS_API_KEY\"] = UserSecretsClient().get_secret(\"CONGRESS_API_KEY\")"
   ]
  },
  {
   "cell_type": "markdown",
   "id": "2706040b-e428-4f49-8a02-47d44030bfb8",
   "metadata": {},
   "source": [
    "If you are running locally make sure you have those keys set in your .env and load it here"
   ]
  },
  {
   "cell_type": "code",
   "execution_count": 3,
   "id": "5c848393-5c1e-4a42-9e1c-8559bce8bda3",
   "metadata": {},
   "outputs": [
    {
     "data": {
      "text/plain": [
       "True"
      ]
     },
     "execution_count": 3,
     "metadata": {},
     "output_type": "execute_result"
    }
   ],
   "source": [
    "load_dotenv(find_dotenv())"
   ]
  },
  {
   "cell_type": "markdown",
   "id": "62cd354b-d1ed-44b0-8ce8-19235ce83e21",
   "metadata": {},
   "source": [
    "## The agent\n",
    "CongressBot will use a gen AI agent to respond to queries from the user. Let's first look at the prompt."
   ]
  },
  {
   "cell_type": "code",
   "execution_count": 4,
   "id": "e5e2648c-f09d-44e7-bdc9-7ace464c648f",
   "metadata": {},
   "outputs": [
    {
     "name": "stdout",
     "output_type": "stream",
     "text": [
      "You are a helpful chatbot designed to help the user learn about the activities congress. \n",
      "You will use the congressional api to access information about bills and members of congress.\n",
      "If you don't know what value to include for an optional parameter, don't include anything.\n",
      "For any object in a response that contains a url, call call_endpoint to get more information on it\n"
     ]
    }
   ],
   "source": [
    "print(agent.INSTRUCTION)"
   ]
  },
  {
   "cell_type": "markdown",
   "id": "abfa40b0-905f-4a9e-9634-10d62ef3e653",
   "metadata": {},
   "source": [
    "The prompt is pretty basic. It does provide some instructions on how to use the provided API."
   ]
  },
  {
   "cell_type": "code",
   "execution_count": 5,
   "id": "5f41e407-6c2c-4a01-a69e-1e7fa038ef11",
   "metadata": {},
   "outputs": [
    {
     "data": {
      "text/plain": [
       "'gemini-2.0-flash'"
      ]
     },
     "execution_count": 5,
     "metadata": {},
     "output_type": "execute_result"
    }
   ],
   "source": [
    "agent.MODEL"
   ]
  },
  {
   "cell_type": "markdown",
   "id": "da53daa5-aa67-4e9c-bbab-9a4139c41a78",
   "metadata": {},
   "source": [
    "The agent uses the gemini 2.0 Flash model by default"
   ]
  },
  {
   "cell_type": "code",
   "execution_count": 6,
   "id": "329b5ca9-6535-4b74-a4be-c855f054ef3b",
   "metadata": {},
   "outputs": [],
   "source": [
    "a = agent.CongressAgent(temperature=0)"
   ]
  },
  {
   "cell_type": "markdown",
   "id": "213600d3-7b2c-4138-8c54-b6e3c64bf8d3",
   "metadata": {},
   "source": [
    "## The API\n",
    "For this project we will use the Congressional API found [here](https://api.congress.gov/). This provides several endpoints to get information about congress. I wrote a few functions for accessing it. The most basic function is one that simply calls an endpoint."
   ]
  },
  {
   "cell_type": "code",
   "execution_count": 7,
   "id": "96347155-f2e5-4d1a-b561-4b0eb5bdea7a",
   "metadata": {},
   "outputs": [
    {
     "name": "stdout",
     "output_type": "stream",
     "text": [
      "{'name': 'call_endpoint',\n",
      " 'description': 'call an endpoint on the congress API',\n",
      " 'parameters': {'type': 'object',\n",
      "                'properties': {'endpoint': {'type': 'string',\n",
      "                                            'description': 'The endpoint to '\n",
      "                                                           'access. Can be '\n",
      "                                                           'absolute or '\n",
      "                                                           'relative to '\n",
      "                                                           'https://api.congress.gov/v3'}},\n",
      "                'required': ['endpoint']}}\n"
     ]
    }
   ],
   "source": [
    "import pprint\n",
    "pprint.pp(congress.call_endpoint_schema)"
   ]
  },
  {
   "cell_type": "markdown",
   "id": "b16d13f8-3ce5-4fe5-a631-cba607a2bb53",
   "metadata": {},
   "source": [
    "This function is more powerful than it first appears. Many of the responses from the API use [HATEOAS](https://en.wikipedia.org/wiki/HATEOAS) links to related resources. So if a bill response has a link to a cosponsor resource, the agent can automatically find that without having to know details about that API.\n",
    "\n",
    "I also have some entry points to the API."
   ]
  },
  {
   "cell_type": "code",
   "execution_count": 8,
   "id": "350b2ca1-0b1f-4a4e-b1a0-845b05562efe",
   "metadata": {},
   "outputs": [
    {
     "name": "stdout",
     "output_type": "stream",
     "text": [
      "{'name': 'list_bills',\n",
      " 'description': 'Lists bills being considered by Congress',\n",
      " 'parameters': {'type': 'object',\n",
      "                'properties': {'offset': {'type': 'integer',\n",
      "                                          'description': 'offset for the list '\n",
      "                                                         'of bills'},\n",
      "                               'limit': {'type': 'integer',\n",
      "                                         'description': 'the number of bills '\n",
      "                                                        'to return'},\n",
      "                               'fromDate': {'type': 'string',\n",
      "                                            'description': 'the date of the '\n",
      "                                                           'earliest bills to '\n",
      "                                                           'return, leave '\n",
      "                                                           'blank for no '\n",
      "                                                           'restriction'},\n",
      "                               'toDate': {'type': 'string',\n",
      "                                          'description': 'the date of the '\n",
      "                                                         'lastest bills to '\n",
      "                                                         'return, leave blank '\n",
      "                                                         'for no restriction'},\n",
      "                               'congress': {'type': 'integer',\n",
      "                                            'description': 'the number of the '\n",
      "                                                           'congress to gets '\n",
      "                                                           'bills from, leave '\n",
      "                                                           'blank for the '\n",
      "                                                           'current congress'}},\n",
      "                'required': []}}\n",
      "{'name': 'get_bill',\n",
      " 'description': 'Gets detailed information about a bill',\n",
      " 'parameters': {'type': 'object',\n",
      "                'properties': {'congress': {'type': 'integer',\n",
      "                                            'description': 'the number of the '\n",
      "                                                           'congress which '\n",
      "                                                           'considered the '\n",
      "                                                           'bill'},\n",
      "                               'billType': {'type': 'string',\n",
      "                                            'description': 'the type of bill',\n",
      "                                            'enum': ['hr',\n",
      "                                                     's',\n",
      "                                                     'hjres',\n",
      "                                                     'sjres',\n",
      "                                                     'hconres',\n",
      "                                                     'sconres',\n",
      "                                                     'hres',\n",
      "                                                     'sres']},\n",
      "                               'billNumber': {'type': 'integer',\n",
      "                                              'description': 'the bill '\n",
      "                                                             'number'}},\n",
      "                'required': ['congress', 'billType', 'billNumber']}}\n",
      "{'name': 'get_members',\n",
      " 'description': 'Gets a list of members of congress',\n",
      " 'parameters': {'type': 'object',\n",
      "                'properties': {'congress': {'type': 'integer',\n",
      "                                            'description': 'search by a '\n",
      "                                                           'specific congress'},\n",
      "                               'state': {'type': 'string',\n",
      "                                         'description': 'Two letter identifier '\n",
      "                                                        'for the state'},\n",
      "                               'district': {'type': 'integer',\n",
      "                                            'description': 'The district '\n",
      "                                                           'number. Can only '\n",
      "                                                           'be specified if '\n",
      "                                                           'the state is also '\n",
      "                                                           'set'},\n",
      "                               'current': {'type': 'boolean',\n",
      "                                           'description': 'Whether to only '\n",
      "                                                          'return current '\n",
      "                                                          'members'}}}}\n"
     ]
    }
   ],
   "source": [
    "pprint.pp(congress.list_bills_schema)\n",
    "pprint.pp(congress.get_bill_schema)\n",
    "pprint.pp(congress.get_members_schema)"
   ]
  },
  {
   "cell_type": "markdown",
   "id": "f98ed146-5eaa-482f-95dd-0a73140de651",
   "metadata": {},
   "source": [
    "Each of these calls the call endpoint function with the details specific for that endpoint.\n",
    "\n",
    "There is one exception I had to make and that was to get the bill text. This endpoint does not follow the same pattern as the other endpoints. It lists several identical versions of the bill text except in different formats (HTML, PDF, and XML) and all external to the API, so the call endpoint function won't access it correctly. So I made a separate function for it."
   ]
  },
  {
   "cell_type": "code",
   "execution_count": 9,
   "id": "288f27b1-d1b2-408e-b853-d9ef96d9f343",
   "metadata": {},
   "outputs": [
    {
     "name": "stdout",
     "output_type": "stream",
     "text": [
      "{'name': 'get_bill_text',\n",
      " 'description': 'Gets the bill text',\n",
      " 'parameters': {'type': 'object',\n",
      "                'properties': {'congress': {'type': 'integer',\n",
      "                                            'description': 'the number of the '\n",
      "                                                           'congress which '\n",
      "                                                           'considered the '\n",
      "                                                           'bill'},\n",
      "                               'billType': {'type': 'string',\n",
      "                                            'description': 'the type of bill',\n",
      "                                            'enum': ['hr',\n",
      "                                                     's',\n",
      "                                                     'hjres',\n",
      "                                                     'sjres',\n",
      "                                                     'hconres',\n",
      "                                                     'sconres',\n",
      "                                                     'hres',\n",
      "                                                     'sres']},\n",
      "                               'billNumber': {'type': 'integer',\n",
      "                                              'description': 'the bill number'},\n",
      "                               'asOf': {'type': 'string',\n",
      "                                        'description': 'set this to a date in '\n",
      "                                                       'YYYY/MM/DD format if '\n",
      "                                                       'you want to get the '\n",
      "                                                       'text before that '\n",
      "                                                       'date'}},\n",
      "                'required': ['congress', 'billType', 'billNumber']}}\n"
     ]
    }
   ],
   "source": [
    "pprint.pp(congress.get_bill_text_schema)"
   ]
  },
  {
   "cell_type": "markdown",
   "id": "427ded9e-fd82-462d-b881-7a80be572aa5",
   "metadata": {},
   "source": [
    "Putting this all together we can use the agent to get information from the API."
   ]
  },
  {
   "cell_type": "code",
   "execution_count": 10,
   "id": "9a1f641c-b424-4a26-a81e-ff35450bfdbd",
   "metadata": {},
   "outputs": [
    {
     "name": "stdout",
     "output_type": "stream",
     "text": [
      "-- calling get_members(**{'current': True, 'district': 2, 'state': 'NC'})\n",
      "The representative for North Carolina in district 2 is Deborah K. Ross.\n",
      "-- calling call_endpoint(**{'endpoint': 'https://api.congress.gov/v3/member/R000305?format=json'})\n",
      "-- calling call_endpoint(**{'endpoint': 'https://api.congress.gov/v3/member/R000305/sponsored-legislation'})\n",
      "Here are the first 20 bills sponsored by Deborah Ross:\n",
      "Expressing the sense of Congress that the votes of overseas servicemembers must be counted and honored as required under the Uniformed and Overseas Citizens Absentee Voting Act. (HCONRES-28, 119th Congress)\n",
      "To amend the Outer Continental Shelf Lands Act to withdraw the outer Continental Shelf in the Mid-Atlantic Planning Area from disposition, and for other purposes. (HR-2886, 119th Congress)\n",
      "Insurance Fraud Accountability Act (HR-2079, 119th Congress)\n",
      "Safer Sports for Athletes Act of 2024 (HR-10326, 118th Congress)\n",
      "Expressing support for designating the week of November 4 through November 10, 2024, as \"Forensic Nursing Week\". (HRES-1575, 118th Congress)\n",
      "Insurance Fraud Accountability Act (HR-10095, 118th Congress)\n",
      "Expressing support for the designation of October 1 as \"National Science Day\". (HRES-1529, 118th Congress)\n",
      "Medical Laboratory Personnel Shortage Relief Act of 2024 (HR-9849, 118th Congress)\n",
      "AI Incident Reporting and Security Enhancement Act (HR-9720, 118th Congress)\n",
      "Secure A.I. Act of 2024 (HR-9737, 118th Congress)\n",
      "To designate the facility of the United States Postal Service located at 2777 Brentwood Road in Raleigh, North Carolina, as the \"Millie Dunn Veasey Post Office\". (HR-9580, 118th Congress)\n",
      "Federal and State Food Safety Information Sharing Act of 2024 (HR-9443, 118th Congress)\n",
      "Advancing International and Foreign Language Education Act (HR-9170, 118th Congress)\n",
      "Closing Bankruptcy Loopholes for Child Predators Act of 2024 (HR-8077, 118th Congress)\n",
      "To make revisions in title 51, United States Code, as necessary to keep the title current, and to make technical amendments to improve the United States Code. (HR-7339, 118th Congress)\n",
      "Petfax Act of 2024 (HR-7211, 118th Congress)\n",
      "Redistricting Transparency and Accountability Act of 2024 (HR-7095, 118th Congress)\n",
      "Understanding Student Parent Outcomes Act of 2023 (HR-6309, 118th Congress)\n",
      "Protect Working Musicians Act of 2023 (HR-5576, 118th Congress)\n",
      "Protection and Advocacy for Criminal Legal Services Act (HR-5258, 118th Congress)\n",
      "The first bill is HCONRES 28 from the 119th Congress, introduced on 2025-04-14. The latest action was on 2025-04-14, when it was referred to the House Committee on House Administration. The title is \"Expressing the sense of Congress that the votes of overseas servicemembers must be counted and honored as required under the Uniformed and Overseas Citizens Absentee Voting Act.\".\n",
      "-- calling call_endpoint(**{'endpoint': 'https://api.congress.gov/v3/bill/119/hconres/28?format=json'})\n",
      "-- calling get_bill_text(**{'congress': 119, 'billType': 'hconres', 'billNumber': 28})\n",
      "This bill expresses the sense of Congress that the votes of uniformed servicemembers and overseas citizens, submitted in compliance with the Uniformed and Overseas Citizens Absentee Voting Act (UOCAVA), must be fully counted and honored in all Federal, State, and local elections. It also states that all States, territories, and election authorities must uphold their obligations under UOCAVA by ensuring that no legally submitted absentee ballot is rejected without due process or in violation of Federal law, and that the disenfranchisement of military personnel and overseas citizens through administrative error, procedural delays, or undue restrictions is unacceptable and contrary to the values of the United States. The preamble states that the failure to count legally cast absentee ballots from military personnel and overseas citizens undermines election integrity, disrespects their sacrifices, and weakens public trust in democratic processes.\n",
      "\n"
     ]
    }
   ],
   "source": [
    "a.run([\"Who represents North Carolina in district 2?\",\n",
    "       \"Can you list some bills she has sponsored?\",\n",
    "       \"Can you give some information about the first one?\",\n",
    "       \"What reason does the bill text give for its passage?\",\n",
    "       \"q\"])"
   ]
  },
  {
   "cell_type": "markdown",
   "id": "38a750f7-ec4a-4383-9b8c-8caae344b086",
   "metadata": {},
   "source": [
    "This provides for a nice way to learn about what your congressperson is doing. But I found the bill entry points a little underwhelming. I don't usually know the identifier for a certain bill, and going through the list of bills is a little tedious. I would like a way to search for interesting bills, but the API doesn't provide for much in terms of search."
   ]
  },
  {
   "cell_type": "markdown",
   "id": "6abc49a3-6f7a-49df-b4c1-fbb544bf3512",
   "metadata": {},
   "source": [
    "## Embeddings and the Vector DB\n",
    "This can be solved by using the \"bulk data\" system to store embeddings for the bills in a vector DB.\n",
    "For brevities sake we will only load the bill summaries which are much shorter than the bills themselves. This loading can still take some time so we will only load the documents since April 1st, 2025. The full dataset for a given congress can be loaded via the commandline with `python load_db -c {congress_number}`."
   ]
  },
  {
   "cell_type": "code",
   "execution_count": 11,
   "id": "16d22093-45f8-4559-a644-45746fca9d64",
   "metadata": {},
   "outputs": [
    {
     "name": "stdout",
     "output_type": "stream",
     "text": [
      "Loading from https://www.govinfo.gov/bulkdata/json/BILLSUM/119\n",
      "Loading from https://www.govinfo.gov/bulkdata/json/BILLSUM/119/hr\n",
      "Loading from https://www.govinfo.gov/bulkdata/json/BILLSUM/119/s\n",
      "Loading from https://www.govinfo.gov/bulkdata/json/BILLSUM/119/hres\n",
      "Loading from https://www.govinfo.gov/bulkdata/json/BILLSUM/119/hjres\n",
      "Loading from https://www.govinfo.gov/bulkdata/json/BILLSUM/119/sconres\n",
      "Loading from https://www.govinfo.gov/bulkdata/json/BILLSUM/119/sjres\n",
      "Loading from https://www.govinfo.gov/bulkdata/json/BILLSUM/119/hconres\n",
      "Loading from https://www.govinfo.gov/bulkdata/json/BILLSUM/119/sres\n",
      "Inserted 168 documents"
     ]
    }
   ],
   "source": [
    "a.db.embed_fn.set_doc_mode()\n",
    "a.db.load_bill_summaries(119, datetime.datetime(2025,4,1))\n",
    "a.db.embed_fn.set_query_mode()"
   ]
  },
  {
   "cell_type": "markdown",
   "id": "3eeb492b-f76b-4bdc-8bea-8b29e8465c33",
   "metadata": {},
   "source": [
    "I also expose a query function to search bills"
   ]
  },
  {
   "cell_type": "code",
   "execution_count": 12,
   "id": "77a56450-305b-487d-b1b4-bb219ac8f670",
   "metadata": {},
   "outputs": [
    {
     "name": "stdout",
     "output_type": "stream",
     "text": [
      "{'name': 'query_bill_summaries',\n",
      " 'description': 'Finds bill summaries relevant to a given query',\n",
      " 'parameters': {'type': 'object',\n",
      "                'properties': {'query': {'type': 'string',\n",
      "                                         'description': 'A natural language '\n",
      "                                                        'query to use to find '\n",
      "                                                        'relevant bills. It '\n",
      "                                                        'will return a map '\n",
      "                                                        'with the bill '\n",
      "                                                        'summary, the '\n",
      "                                                        'congress, bill type, '\n",
      "                                                        'bill number, and the '\n",
      "                                                        'endpoint you can '\n",
      "                                                        'access it with the '\n",
      "                                                        'api'},\n",
      "                               'n': {'type': 'integer',\n",
      "                                     'description': 'the number of results to '\n",
      "                                                    'return'},\n",
      "                               'congress': {'type': 'integer',\n",
      "                                            'description': 'use this to '\n",
      "                                                           'restrict results '\n",
      "                                                           'to a single '\n",
      "                                                           'congress'},\n",
      "                               'bill_type': {'type': 'string',\n",
      "                                             'description': 'use this to '\n",
      "                                                            'restrict results '\n",
      "                                                            'to a single bill '\n",
      "                                                            'type',\n",
      "                                             'enum': ['hr',\n",
      "                                                      's',\n",
      "                                                      'hjres',\n",
      "                                                      'sjres',\n",
      "                                                      'hconres',\n",
      "                                                      'sconres',\n",
      "                                                      'hres',\n",
      "                                                      'sres']}},\n",
      "                'required': ['query', 'n']}}\n"
     ]
    }
   ],
   "source": [
    "pprint.pp(db.query_bill_summaries_schema)"
   ]
  },
  {
   "cell_type": "code",
   "execution_count": 13,
   "id": "e7303854-9c6e-44d1-9647-e29c4c30c3e2",
   "metadata": {},
   "outputs": [
    {
     "name": "stdout",
     "output_type": "stream",
     "text": [
      "-- calling query_bill_summaries(**{'n': 5, 'query': 'president tariff rates'})\n",
      "Yes, there are a few bills related to the president's ability to set tariff rates. Here are some of them:\n",
      "\n",
      "1.  H.R.505 directs the President to impose additional duties on all imports entering the United States.\n",
      "2.  S.151, the Protecting Americans from Tax Hikes on Imported Goods Act of 2025, prohibits the President from exercising authorities under the International Emergency Economic Powers Act (IEEPA) to impose or increase duties or impose tariff-rate quotas on imports.\n",
      "-- calling call_endpoint(**{'endpoint': '/bill/119/s/151'})\n",
      "S. 151, also known as the \"Protecting Americans from Tax Hikes on Imported Goods Act of 2025,\" was introduced on January 17, 2025. It was read twice and referred to the Committee on Banking, Housing, and Urban Affairs. The bill's primary sponsor is Senator Shaheen from New Hampshire. The bill prohibits the President from exercising authorities under the International Emergency Economic Powers Act (IEEPA) to impose or increase duties or impose tariff-rate quotas on imports entering the United States.\n",
      "\n"
     ]
    }
   ],
   "source": [
    "a.run([\"Are there any bills involving the president's ability to set tariff rates?\",\n",
    "       \"Tell me more about S. 151\", \"q\"])"
   ]
  },
  {
   "cell_type": "markdown",
   "id": "64437beb-5b47-4805-bad0-120021d63e19",
   "metadata": {},
   "source": [
    "## Going forward\n",
    "The vector DB is promising. There are some other data sources that could be put in it that could also be queried, including the full text. In addition more metadata could be included allowing more complex filtering."
   ]
  },
  {
   "cell_type": "code",
   "execution_count": null,
   "id": "701cd3b9-e6cb-4a56-b542-35bafd86f315",
   "metadata": {},
   "outputs": [],
   "source": []
  }
 ],
 "metadata": {
  "kernelspec": {
   "display_name": "Python 3 (ipykernel)",
   "language": "python",
   "name": "python3"
  },
  "language_info": {
   "codemirror_mode": {
    "name": "ipython",
    "version": 3
   },
   "file_extension": ".py",
   "mimetype": "text/x-python",
   "name": "python",
   "nbconvert_exporter": "python",
   "pygments_lexer": "ipython3",
   "version": "3.10.12"
  }
 },
 "nbformat": 4,
 "nbformat_minor": 5
}
