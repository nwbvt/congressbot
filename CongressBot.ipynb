{
 "cells": [
  {
   "cell_type": "code",
   "execution_count": 1,
   "id": "a2bdc340-512d-4689-921d-01111912afc3",
   "metadata": {},
   "outputs": [
    {
     "data": {
      "text/plain": [
       "'1.7.0'"
      ]
     },
     "execution_count": 1,
     "metadata": {},
     "output_type": "execute_result"
    }
   ],
   "source": [
    "import os\n",
    "from google import genai\n",
    "from google.genai import types\n",
    "from dotenv import load_dotenv, find_dotenv\n",
    "import congress\n",
    "import agent\n",
    "\n",
    "genai.__version__"
   ]
  },
  {
   "cell_type": "markdown",
   "id": "c0d6a8f0-6550-4f2e-b486-d7374dce5690",
   "metadata": {},
   "source": [
    "Uncomment this if running in kaggle and make sureyou have secrets for the GOOGLE_API_KEY (available [here](https://aistudio.google.com/app/apikey)) and CONGRESS_API KEY (available [here](https://api.congress.gov/sign-up/)).\n",
    "If you are running locally make sure you have those keys set in your .env"
   ]
  },
  {
   "cell_type": "code",
   "execution_count": 2,
   "id": "2f4ce5c6-afaa-4de6-9c35-e026338d4338",
   "metadata": {},
   "outputs": [],
   "source": [
    "#from kaggle_secrets import UserSecretsClient\n",
    "#os.environ[\"GOOGLE_API_KEY\"] = UserSecretsClient().get_secret(\"GOOGLE_API_KEY\")\n",
    "#os.environ[\"CONGRESS_API_KEY\"] = UserSecretsClient().get_secret(\"CONGRESS_API_KEY\")"
   ]
  },
  {
   "cell_type": "code",
   "execution_count": 3,
   "id": "5c848393-5c1e-4a42-9e1c-8559bce8bda3",
   "metadata": {},
   "outputs": [
    {
     "data": {
      "text/plain": [
       "True"
      ]
     },
     "execution_count": 3,
     "metadata": {},
     "output_type": "execute_result"
    }
   ],
   "source": [
    "load_dotenv(find_dotenv())"
   ]
  },
  {
   "cell_type": "code",
   "execution_count": 4,
   "id": "329b5ca9-6535-4b74-a4be-c855f054ef3b",
   "metadata": {},
   "outputs": [],
   "source": [
    "a = agent.CongressAgent()"
   ]
  },
  {
   "cell_type": "code",
   "execution_count": null,
   "id": "fe342ba6-ff9d-4bb7-8d49-609f99afb193",
   "metadata": {},
   "outputs": [],
   "source": []
  },
  {
   "cell_type": "code",
   "execution_count": 5,
   "id": "8544dd35-d3c1-4704-8191-fb0987f3c78a",
   "metadata": {},
   "outputs": [
    {
     "name": "stdin",
     "output_type": "stream",
     "text": [
      "--> tell me about some bills\n"
     ]
    },
    {
     "name": "stdout",
     "output_type": "stream",
     "text": [
      "-- calling list_bills(**{'limit': 5})\n",
      "Here are some bills that are being considered by congress:\n",
      "1. H.J.Res.25: Providing for congressional disapproval under chapter 8 of title 5, United States Code, of the rule submitted by the Internal Revenue Service relating to \"Gross Proceeds Reporting by Brokers That Regularly Provide Services Effectuating Digital Asset Sales\". This bill became Public Law No: 119-5.\n",
      "2. S.1497: A bill to amend the John D. Dingell, Jr. Conservation, Management, and Recreation Act to estblish the Cerro de la Olla Wilderness in the Rio Grande del Norte National Monument and to modify the boundary of the Rio Grande del Norte National Monument. It was referred to the Committee on Energy and Natural Resources.\n",
      "3. S.1496: A bill to amend the Federal Meat Inspection Act and the Poultry Products Inspection Act to allow the interstate sale of State-inspected meat and poultry, and for other purposes. It was referred to the Committee on Agriculture, Nutrition, and Forestry.\n",
      "4. S.1495: A bill to require reforms to programs of the Natural Resources Conservation Service, and for other purposes. It was referred to the Committee on Agriculture, Nutrition, and Forestry.\n",
      "5. S.1494: A bill to amend the Federal Agriculture Improvement and Reform Act of 1996 to make additional coverage under the Noninsured Crop Disaster Assistance Program available for crops and grasses used for grazing, and for other purposes. It was referred to the Committee on Agriculture, Nutrition, and Forestry.\n"
     ]
    },
    {
     "name": "stdin",
     "output_type": "stream",
     "text": [
      "--> Tell me more about H.J.Res.25\n"
     ]
    },
    {
     "name": "stdout",
     "output_type": "stream",
     "text": [
      "-- calling call_endpoint(**{'endpoint': 'https://api.congress.gov/v3/bill/119/hjres/25?format=json'})\n",
      "H.J.Res.25 was introduced on January 21, 2025. It is a joint resolution providing for congressional disapproval under chapter 8 of title 5, United States Code, of the rule submitted by the Internal Revenue Service relating to \"Gross Proceeds Reporting by Brokers That Regularly Provide Services Effectuating Digital Asset Sales\". The bill was sponsored by Rep. Mike Carey of Ohio. The bill became Public Law No: 119-5 on April 10, 2025.\n"
     ]
    },
    {
     "name": "stdin",
     "output_type": "stream",
     "text": [
      "--> what about S.1497\n"
     ]
    },
    {
     "name": "stdout",
     "output_type": "stream",
     "text": [
      "-- calling call_endpoint(**{'endpoint': 'https://api.congress.gov/v3/bill/119/s/1497?format=json'})\n",
      "S.1497 is a bill to amend the John D. Dingell, Jr. Conservation, Management, and Recreation Act to establish the Cerro de la Olla Wilderness in the Rio Grande del Norte National Monument and to modify the boundary of the Rio Grande del Norte National Monument. It was introduced in the Senate on April 10, 2025, and read twice before being referred to the Committee on Energy and Natural Resources. The primary sponsor is Senator Martin Heinrich of New Mexico, and it has one cosponsor.\n"
     ]
    },
    {
     "name": "stdin",
     "output_type": "stream",
     "text": [
      "--> who is the cosponsor?\n"
     ]
    },
    {
     "name": "stdout",
     "output_type": "stream",
     "text": [
      "-- calling call_endpoint(**{'endpoint': 'https://api.congress.gov/v3/bill/119/s/1497/cosponsors?format=json'})\n",
      "The cosponsor of S.1497 is Sen. Ben Ray Lujan from NM.\n",
      "\n"
     ]
    },
    {
     "name": "stdin",
     "output_type": "stream",
     "text": [
      "--> tell me about him\n"
     ]
    },
    {
     "name": "stdout",
     "output_type": "stream",
     "text": [
      "-- calling call_endpoint(**{'endpoint': 'https://api.congress.gov/v3/member/L000570?format=json'})\n",
      "Ben Ray Lujan is a senator from New Mexico, who was born in 1972. He is a Democrat.\n",
      "\n"
     ]
    },
    {
     "name": "stdin",
     "output_type": "stream",
     "text": [
      "--> q\n"
     ]
    }
   ],
   "source": [
    "a.run()"
   ]
  }
 ],
 "metadata": {
  "kernelspec": {
   "display_name": "Python 3 (ipykernel)",
   "language": "python",
   "name": "python3"
  },
  "language_info": {
   "codemirror_mode": {
    "name": "ipython",
    "version": 3
   },
   "file_extension": ".py",
   "mimetype": "text/x-python",
   "name": "python",
   "nbconvert_exporter": "python",
   "pygments_lexer": "ipython3",
   "version": "3.10.12"
  }
 },
 "nbformat": 4,
 "nbformat_minor": 5
}
