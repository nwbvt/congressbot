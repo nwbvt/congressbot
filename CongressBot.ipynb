{
 "cells": [
  {
   "cell_type": "code",
   "execution_count": 1,
   "id": "a2bdc340-512d-4689-921d-01111912afc3",
   "metadata": {},
   "outputs": [
    {
     "data": {
      "text/plain": [
       "'1.7.0'"
      ]
     },
     "execution_count": 1,
     "metadata": {},
     "output_type": "execute_result"
    }
   ],
   "source": [
    "import os\n",
    "from google import genai\n",
    "from google.genai import types\n",
    "from dotenv import load_dotenv, find_dotenv\n",
    "import congress\n",
    "import agent\n",
    "\n",
    "genai.__version__"
   ]
  },
  {
   "cell_type": "markdown",
   "id": "c0d6a8f0-6550-4f2e-b486-d7374dce5690",
   "metadata": {},
   "source": [
    "Uncomment this if running in kaggle and make sureyou have secrets for the GOOGLE_API_KEY (available [here](https://aistudio.google.com/app/apikey)) and CONGRESS_API KEY (available [here](https://api.congress.gov/sign-up/)).\n",
    "If you are running locally make sure you have those keys set in your .env"
   ]
  },
  {
   "cell_type": "code",
   "execution_count": 2,
   "id": "2f4ce5c6-afaa-4de6-9c35-e026338d4338",
   "metadata": {},
   "outputs": [],
   "source": [
    "#from kaggle_secrets import UserSecretsClient\n",
    "#os.environ[\"GOOGLE_API_KEY\"] = UserSecretsClient().get_secret(\"GOOGLE_API_KEY\")\n",
    "#os.environ[\"CONGRESS_API_KEY\"] = UserSecretsClient().get_secret(\"CONGRESS_API_KEY\")"
   ]
  },
  {
   "cell_type": "code",
   "execution_count": 3,
   "id": "5c848393-5c1e-4a42-9e1c-8559bce8bda3",
   "metadata": {},
   "outputs": [
    {
     "data": {
      "text/plain": [
       "True"
      ]
     },
     "execution_count": 3,
     "metadata": {},
     "output_type": "execute_result"
    }
   ],
   "source": [
    "load_dotenv(find_dotenv())"
   ]
  },
  {
   "cell_type": "code",
   "execution_count": 4,
   "id": "329b5ca9-6535-4b74-a4be-c855f054ef3b",
   "metadata": {},
   "outputs": [],
   "source": [
    "a = agent.CongressAgent()"
   ]
  },
  {
   "cell_type": "code",
   "execution_count": null,
   "id": "8544dd35-d3c1-4704-8191-fb0987f3c78a",
   "metadata": {},
   "outputs": [
    {
     "name": "stdin",
     "output_type": "stream",
     "text": [
      "--> can you find some bills that might impact tariff rates?\n"
     ]
    },
    {
     "name": "stdout",
     "output_type": "stream",
     "text": [
      "-- calling query_bill_summaries(**{'query': 'tariff rates', 'n': 5})\n",
      "Here are some bills related to tariff rates:\n",
      "* **H.R. 1804**: Honest Runway Labeling Act - This bill requires the President to designate certain primary airports near the border as ports of entry and terminate the user fee requirement for customs services at these airports.\n",
      "* **H.R. 6454**: Chemical Tax Repeal Act - This bill repeals the excise taxes on certain taxable chemicals and imported substances.\n",
      "* **H.R. 4695**: Unfair Tax Prevention Act - This bill imposes reciprocal taxes on foreign jurisdictions that attempt to impose certain surtaxes on U.S. business operations.\n",
      "* **H.R. 4148**: Import Security and Fairness Act - This bill excludes imported articles from nonmarket economy countries or countries on the priority watch list from receiving de minimis treatment.\n",
      "* **H.R. 4217**: Secure E-Waste Export and Recycling Act - This bill prohibits the export or reexport of electronic waste, such as computers, televisions, and consumer electronics, subject to certain exemptions\n",
      "\n",
      "Do you want me to get more information on any of these bills?\n"
     ]
    },
    {
     "name": "stdin",
     "output_type": "stream",
     "text": [
      "--> tell me some about that first one\n"
     ]
    },
    {
     "name": "stdout",
     "output_type": "stream",
     "text": [
      "-- calling call_endpoint(**{'endpoint': '/bill/118/hr/1804'})\n",
      "The Honest Runway Labeling Act requires the President to designate certain primary airports near the border as ports of entry and terminate the user fee requirement for customs services at these airports. It was introduced on March 27, 2023, and referred to the House Committee on Ways and Means. The bill's sponsor is Rep. Gonzalez, Vicente [D-TX-34].\n"
     ]
    },
    {
     "name": "stdin",
     "output_type": "stream",
     "text": [
      "--> does it have any cosponsors?\n"
     ]
    },
    {
     "name": "stdout",
     "output_type": "stream",
     "text": [
      "-- calling call_endpoint(**{'endpoint': 'https://api.congress.gov/v3/bill/118/hr/1804/relatedbills?format=json'})\n",
      "This bill does not have any cosponsors, but it has 3 related bills.\n"
     ]
    },
    {
     "name": "stdin",
     "output_type": "stream",
     "text": [
      "--> what are those related bills?\n"
     ]
    },
    {
     "name": "stdout",
     "output_type": "stream",
     "text": [
      "There are three related bills:\n",
      "\n",
      "1.  S.222: Border Airport Fairness Act of 2023\n",
      "2.  H.R.3796: To provide for the extension of taxes funding the Airport and Airway Trust Fund and to require the designation of certain airports as ports of entry.\n",
      "3.  H.R.3935: FAA Reauthorization Act of 2024\n"
     ]
    },
    {
     "name": "stdin",
     "output_type": "stream",
     "text": [
      "--> tell me about that second one\n"
     ]
    },
    {
     "name": "stdout",
     "output_type": "stream",
     "text": [
      "-- calling call_endpoint(**{'endpoint': 'https://api.congress.gov/v3/bill/118/hr/3796?format=json'})\n",
      "It looks like H.R. 3796 would extend taxes funding the Airport and Airway Trust Fund and require the designation of certain airports as ports of entry.\n",
      "\n"
     ]
    },
    {
     "name": "stdin",
     "output_type": "stream",
     "text": [
      "--> who is its sponsor?\n"
     ]
    },
    {
     "name": "stdout",
     "output_type": "stream",
     "text": [
      "The sponsor of HR 3796 is Rep. Smith, Jason [R-MO-8].\n",
      "\n"
     ]
    },
    {
     "name": "stdin",
     "output_type": "stream",
     "text": [
      "--> tell me about him\n"
     ]
    },
    {
     "name": "stdout",
     "output_type": "stream",
     "text": [
      "-- calling call_endpoint(**{'endpoint': 'https://api.congress.gov/v3/member/S001195?format=json'})\n",
      "That's Representative Jason Smith from Missouri, a Republican serving in the House of Representatives since 2013.\n",
      "\n"
     ]
    }
   ],
   "source": [
    "a.run()"
   ]
  }
 ],
 "metadata": {
  "kernelspec": {
   "display_name": "Python 3 (ipykernel)",
   "language": "python",
   "name": "python3"
  },
  "language_info": {
   "codemirror_mode": {
    "name": "ipython",
    "version": 3
   },
   "file_extension": ".py",
   "mimetype": "text/x-python",
   "name": "python",
   "nbconvert_exporter": "python",
   "pygments_lexer": "ipython3",
   "version": "3.10.12"
  }
 },
 "nbformat": 4,
 "nbformat_minor": 5
}
