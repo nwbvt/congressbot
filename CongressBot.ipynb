{
 "cells": [
  {
   "cell_type": "code",
   "execution_count": 1,
   "id": "a2bdc340-512d-4689-921d-01111912afc3",
   "metadata": {},
   "outputs": [
    {
     "data": {
      "text/plain": [
       "'1.7.0'"
      ]
     },
     "execution_count": 1,
     "metadata": {},
     "output_type": "execute_result"
    }
   ],
   "source": [
    "import os\n",
    "from google import genai\n",
    "from google.genai import types\n",
    "from dotenv import load_dotenv, find_dotenv\n",
    "import congress\n",
    "import agent\n",
    "\n",
    "genai.__version__"
   ]
  },
  {
   "cell_type": "markdown",
   "id": "c0d6a8f0-6550-4f2e-b486-d7374dce5690",
   "metadata": {},
   "source": [
    "Uncomment this if running in kaggle and make sureyou have secrets for the GOOGLE_API_KEY (available [here](https://aistudio.google.com/app/apikey)) and CONGRESS_API KEY (available [here](https://api.congress.gov/sign-up/)).\n",
    "If you are running locally make sure you have those keys set in your .env"
   ]
  },
  {
   "cell_type": "code",
   "execution_count": 2,
   "id": "2f4ce5c6-afaa-4de6-9c35-e026338d4338",
   "metadata": {},
   "outputs": [],
   "source": [
    "#from kaggle_secrets import UserSecretsClient\n",
    "#os.environ[\"GOOGLE_API_KEY\"] = UserSecretsClient().get_secret(\"GOOGLE_API_KEY\")\n",
    "#os.environ[\"CONGRESS_API_KEY\"] = UserSecretsClient().get_secret(\"CONGRESS_API_KEY\")"
   ]
  },
  {
   "cell_type": "code",
   "execution_count": 3,
   "id": "5c848393-5c1e-4a42-9e1c-8559bce8bda3",
   "metadata": {},
   "outputs": [
    {
     "data": {
      "text/plain": [
       "True"
      ]
     },
     "execution_count": 3,
     "metadata": {},
     "output_type": "execute_result"
    }
   ],
   "source": [
    "load_dotenv(find_dotenv())"
   ]
  },
  {
   "cell_type": "code",
   "execution_count": 4,
   "id": "329b5ca9-6535-4b74-a4be-c855f054ef3b",
   "metadata": {},
   "outputs": [],
   "source": [
    "a = agent.CongressAgent()"
   ]
  },
  {
   "cell_type": "code",
   "execution_count": 5,
   "id": "8544dd35-d3c1-4704-8191-fb0987f3c78a",
   "metadata": {},
   "outputs": [
    {
     "name": "stdin",
     "output_type": "stream",
     "text": [
      "--> hi\n"
     ]
    },
    {
     "name": "stdout",
     "output_type": "stream",
     "text": [
      "Hi there! How can I help you with information about bills before Congress?\n",
      "\n"
     ]
    },
    {
     "name": "stdin",
     "output_type": "stream",
     "text": [
      "--> can you list any bills that have been passed recently?\n"
     ]
    },
    {
     "name": "stdout",
     "output_type": "stream",
     "text": [
      "I can list bills being considered by Congress. To do this, I need to know the Congress number and a date range. If you want bills from the current congress, leave the congress field blank. What congress number and date range would you like?\n"
     ]
    },
    {
     "name": "stdin",
     "output_type": "stream",
     "text": [
      "--> the current one\n"
     ]
    },
    {
     "name": "stdout",
     "output_type": "stream",
     "text": [
      "calling list_bills({'congress': 118})\n",
      "Here are some of the most recent bills that have been passed into law:\n",
      "\n",
      "1.  D.C. Robert F. Kennedy Memorial Stadium Campus Revitalization Act (HR 4984): Became Public Law No: 118-274 on January 6, 2025.\n",
      "2.  Social Security Fairness Act of 2023 (HR 82): Became Public Law No: 118-273 on January 5, 2025.\n",
      "3.  To designate the facility of the United States Postal Service located at 119 North Anderson Street in Elwood, Indiana, as the \"Officer Noah Jacob Shahnavaz Post Office Building\" (HR 9775): Became Public Law No: 118-269 on January 4, 2025.\n",
      "4.  To designate the facility of the United States Postal Service located at 119 Main Street in Plains, Georgia, as the \"Jimmy and Rosalynn Carter Post Office\" (HR 9600): Became Public Law No: 118-268 on January 4, 2025.\n",
      "5.  Federal Register Modernization Act of 2024 (HR 9592): Became Public Law No: 118-267 on January 4, 2025.\n",
      "\n",
      "And many others. Would you like me to get more information on any of these bills?\n"
     ]
    },
    {
     "name": "stdin",
     "output_type": "stream",
     "text": [
      "--> tell me about the first one\n"
     ]
    },
    {
     "name": "stdout",
     "output_type": "stream",
     "text": [
      "calling list_bills({'limit': 1, 'congress': 118})\n",
      "The first bill is the DHS Intelligence and Analysis Oversight and Transparency Act. It is bill number 5319, it originated in the Senate, and the latest action was on 2025-01-08 when a Star Print was ordered on the reported bill. The bill's URL is https://api.congress.gov/v3/bill/118/s/5319?format=json. Would you like me to get more information on this bill?\n",
      "\n"
     ]
    },
    {
     "name": "stdin",
     "output_type": "stream",
     "text": [
      "--> sure\n"
     ]
    },
    {
     "name": "stdout",
     "output_type": "stream",
     "text": [
      "The first bill is the DHS Intelligence and Analysis Oversight and Transparency Act. It is bill number 5319, it originated in the Senate, and the latest action on the bill was on 2025-01-08 when a Star Print was ordered on the reported bill. The url for more information on this bill is https://api.congress.gov/v3/bill/118/s/5319?format=json. Would you like me to get more information from the url?\n"
     ]
    },
    {
     "name": "stdin",
     "output_type": "stream",
     "text": [
      "--> q\\\n"
     ]
    },
    {
     "name": "stdout",
     "output_type": "stream",
     "text": [
      "The first bill is the DHS Intelligence and Analysis Oversight and Transparency Act. It was introduced in the Senate and has the bill number S.5319. The latest action on the bill was on 2025-01-08 when a Star Print was ordered on the reported bill. Would you like to know more?\n",
      "\n"
     ]
    },
    {
     "name": "stdin",
     "output_type": "stream",
     "text": [
      "--> q\n"
     ]
    }
   ],
   "source": [
    "a.run()"
   ]
  }
 ],
 "metadata": {
  "kernelspec": {
   "display_name": "Python 3 (ipykernel)",
   "language": "python",
   "name": "python3"
  },
  "language_info": {
   "codemirror_mode": {
    "name": "ipython",
    "version": 3
   },
   "file_extension": ".py",
   "mimetype": "text/x-python",
   "name": "python",
   "nbconvert_exporter": "python",
   "pygments_lexer": "ipython3",
   "version": "3.10.12"
  }
 },
 "nbformat": 4,
 "nbformat_minor": 5
}
